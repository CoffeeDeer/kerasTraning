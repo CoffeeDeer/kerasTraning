{
  "nbformat": 4,
  "nbformat_minor": 0,
  "metadata": {
    "colab": {
      "name": "5-3-1.ipynb",
      "provenance": [],
      "collapsed_sections": []
    },
    "kernelspec": {
      "name": "python3",
      "display_name": "Python 3"
    }
  },
  "cells": [
    {
      "cell_type": "code",
      "metadata": {
        "id": "l6heu5adz4ms",
        "colab_type": "code",
        "outputId": "960940ea-42f1-4e6f-e055-55d6278d0fe9",
        "colab": {
          "base_uri": "https://localhost:8080/",
          "height": 68
        }
      },
      "source": [
        "from keras.applications import VGG16\n",
        "\n",
        "conv_base = VGG16(weights='imagenet', include_top=False, input_shape=(150,150,3))"
      ],
      "execution_count": 1,
      "outputs": [
        {
          "output_type": "stream",
          "text": [
            "Using TensorFlow backend.\n"
          ],
          "name": "stderr"
        },
        {
          "output_type": "stream",
          "text": [
            "Downloading data from https://github.com/fchollet/deep-learning-models/releases/download/v0.1/vgg16_weights_tf_dim_ordering_tf_kernels_notop.h5\n",
            "58892288/58889256 [==============================] - 1s 0us/step\n"
          ],
          "name": "stdout"
        }
      ]
    },
    {
      "cell_type": "code",
      "metadata": {
        "id": "NuT3P2Pr0Bbi",
        "colab_type": "code",
        "outputId": "9f26d215-cdb1-4742-d949-1340f5b545bd",
        "colab": {
          "base_uri": "https://localhost:8080/",
          "height": 68
        }
      },
      "source": [
        "import os\n",
        "import numpy as np\n",
        "from keras.preprocessing.image import ImageDataGenerator\n",
        "\n",
        "base_dir = '/content/drive/My Drive/Colab Notebooks/cats_and_dogs_small'\n",
        "train_dir = os.path.join(base_dir, 'train')\n",
        "validation_dir = os.path.join(base_dir, 'validation')\n",
        "test_dir = os.path.join(base_dir, 'test')\n",
        "\n",
        "datagen = ImageDataGenerator(rescale=1./255)\n",
        "batch_size = 20\n",
        "\n",
        "def extract_features(directory, sample_count):\n",
        "    features = np.zeros(shape=(sample_count, 4, 4, 512))\n",
        "    labels = np.zeros(shape=(sample_count))\n",
        "    generator = datagen.flow_from_directory(\n",
        "        directory,\n",
        "        target_size=(150, 150),\n",
        "        batch_size=batch_size,\n",
        "        class_mode='binary')\n",
        "    i = 0\n",
        "    for inputs_batch, labels_batch in generator:\n",
        "        features_batch = conv_base.predict(inputs_batch)\n",
        "        features[i * batch_size : (i + 1) * batch_size] = features_batch\n",
        "        labels[i * batch_size : (i + 1) * batch_size] = labels_batch\n",
        "        i += 1\n",
        "        if i * batch_size >= sample_count:\n",
        "            # Note that since generators yield data indefinitely in a loop,\n",
        "            # we must `break` after every image has been seen once.\n",
        "            break\n",
        "    return features, labels\n",
        "\n",
        "train_features, train_labels = extract_features(train_dir, 200)\n",
        "validation_features, validation_labels = extract_features(validation_dir, 100)\n",
        "test_features, test_labels = extract_features(test_dir, 100)"
      ],
      "execution_count": 3,
      "outputs": [
        {
          "output_type": "stream",
          "text": [
            "Found 2000 images belonging to 2 classes.\n",
            "Found 1000 images belonging to 2 classes.\n",
            "Found 1000 images belonging to 2 classes.\n"
          ],
          "name": "stdout"
        }
      ]
    },
    {
      "cell_type": "code",
      "metadata": {
        "id": "5PsINZJsAj7v",
        "colab_type": "code",
        "colab": {}
      },
      "source": [
        "train_features = np.reshape(train_features,(200, 4*4*512))\n",
        "validation_features = np.reshape(validation_features,(100, 4*4*512))\n",
        "test_features = np.reshape(test_features,(100, 4*4*512))"
      ],
      "execution_count": 0,
      "outputs": []
    },
    {
      "cell_type": "code",
      "metadata": {
        "id": "-bguE6SE0Cbf",
        "colab_type": "code",
        "outputId": "7e3b8f05-9c06-4503-8de3-6b85713f7e93",
        "colab": {
          "base_uri": "https://localhost:8080/",
          "height": 1000
        }
      },
      "source": [
        "from keras import models\n",
        "from keras import layers\n",
        "from keras import optimizers\n",
        "\n",
        "\n",
        "model = models.Sequential()\n",
        "model.add(layers.Dense(256, activation='relu', input_dim=4*4*512))\n",
        "model.add(layers.Dropout(0.5))\n",
        "model.add(layers.Dense(1, activation='sigmoid'))\n",
        "\n",
        "model.compile(optimizer=optimizers.RMSprop(lr=2e-5),\n",
        "              loss='binary_crossentropy',\n",
        "              metrics=['acc'])\n",
        "\n",
        "history = model.fit( x =train_features,y = train_labels,\n",
        "                    epochs=30,\n",
        "                    batch_size=20,\n",
        "                    validation_data=(validation_features, validation_labels))"
      ],
      "execution_count": 6,
      "outputs": [
        {
          "output_type": "stream",
          "text": [
            "Train on 200 samples, validate on 100 samples\n",
            "Epoch 1/30\n",
            "200/200 [==============================] - 0s 2ms/step - loss: 0.7525 - acc: 0.5400 - val_loss: 0.6413 - val_acc: 0.6300\n",
            "Epoch 2/30\n",
            "200/200 [==============================] - 0s 1ms/step - loss: 0.7103 - acc: 0.5700 - val_loss: 0.5919 - val_acc: 0.7300\n",
            "Epoch 3/30\n",
            "200/200 [==============================] - 0s 1ms/step - loss: 0.5073 - acc: 0.7300 - val_loss: 0.5489 - val_acc: 0.7900\n",
            "Epoch 4/30\n",
            "200/200 [==============================] - 0s 1ms/step - loss: 0.6145 - acc: 0.6950 - val_loss: 0.5343 - val_acc: 0.7700\n",
            "Epoch 5/30\n",
            "200/200 [==============================] - 0s 1ms/step - loss: 0.5715 - acc: 0.7000 - val_loss: 0.5335 - val_acc: 0.7400\n",
            "Epoch 6/30\n",
            "200/200 [==============================] - 0s 1ms/step - loss: 0.4696 - acc: 0.7950 - val_loss: 0.4906 - val_acc: 0.8200\n",
            "Epoch 7/30\n",
            "200/200 [==============================] - 0s 1ms/step - loss: 0.4414 - acc: 0.8100 - val_loss: 0.4863 - val_acc: 0.7900\n",
            "Epoch 8/30\n",
            "200/200 [==============================] - 0s 1ms/step - loss: 0.4455 - acc: 0.7950 - val_loss: 0.4724 - val_acc: 0.7700\n",
            "Epoch 9/30\n",
            "200/200 [==============================] - 0s 1ms/step - loss: 0.4069 - acc: 0.8250 - val_loss: 0.4605 - val_acc: 0.8000\n",
            "Epoch 10/30\n",
            "200/200 [==============================] - 0s 1ms/step - loss: 0.3566 - acc: 0.8800 - val_loss: 0.4543 - val_acc: 0.8000\n",
            "Epoch 11/30\n",
            "200/200 [==============================] - 0s 1ms/step - loss: 0.3684 - acc: 0.8500 - val_loss: 0.4407 - val_acc: 0.7900\n",
            "Epoch 12/30\n",
            "200/200 [==============================] - 0s 1ms/step - loss: 0.3369 - acc: 0.8700 - val_loss: 0.4312 - val_acc: 0.8000\n",
            "Epoch 13/30\n",
            "200/200 [==============================] - 0s 1ms/step - loss: 0.3184 - acc: 0.9000 - val_loss: 0.4089 - val_acc: 0.8600\n",
            "Epoch 14/30\n",
            "200/200 [==============================] - 0s 1ms/step - loss: 0.3121 - acc: 0.8650 - val_loss: 0.4186 - val_acc: 0.8100\n",
            "Epoch 15/30\n",
            "200/200 [==============================] - 0s 1ms/step - loss: 0.2578 - acc: 0.9500 - val_loss: 0.4248 - val_acc: 0.8000\n",
            "Epoch 16/30\n",
            "200/200 [==============================] - 0s 1ms/step - loss: 0.2813 - acc: 0.9050 - val_loss: 0.3989 - val_acc: 0.8400\n",
            "Epoch 17/30\n",
            "200/200 [==============================] - 0s 1ms/step - loss: 0.2443 - acc: 0.9400 - val_loss: 0.4048 - val_acc: 0.8100\n",
            "Epoch 18/30\n",
            "200/200 [==============================] - 0s 1ms/step - loss: 0.2511 - acc: 0.9250 - val_loss: 0.3961 - val_acc: 0.8100\n",
            "Epoch 19/30\n",
            "200/200 [==============================] - 0s 1ms/step - loss: 0.2384 - acc: 0.9350 - val_loss: 0.3770 - val_acc: 0.8700\n",
            "Epoch 20/30\n",
            "200/200 [==============================] - 0s 1ms/step - loss: 0.2292 - acc: 0.9400 - val_loss: 0.3846 - val_acc: 0.8200\n",
            "Epoch 21/30\n",
            "200/200 [==============================] - 0s 1ms/step - loss: 0.2091 - acc: 0.9500 - val_loss: 0.3746 - val_acc: 0.8600\n",
            "Epoch 22/30\n",
            "200/200 [==============================] - 0s 1ms/step - loss: 0.2093 - acc: 0.9500 - val_loss: 0.3693 - val_acc: 0.8600\n",
            "Epoch 23/30\n",
            "200/200 [==============================] - 0s 1ms/step - loss: 0.1965 - acc: 0.9550 - val_loss: 0.3693 - val_acc: 0.8400\n",
            "Epoch 24/30\n",
            "200/200 [==============================] - 0s 1ms/step - loss: 0.1805 - acc: 0.9800 - val_loss: 0.3719 - val_acc: 0.8200\n",
            "Epoch 25/30\n",
            "200/200 [==============================] - 0s 1ms/step - loss: 0.1665 - acc: 0.9650 - val_loss: 0.3772 - val_acc: 0.8300\n",
            "Epoch 26/30\n",
            "200/200 [==============================] - 0s 1ms/step - loss: 0.1637 - acc: 0.9850 - val_loss: 0.3590 - val_acc: 0.8600\n",
            "Epoch 27/30\n",
            "200/200 [==============================] - 0s 1ms/step - loss: 0.1574 - acc: 0.9650 - val_loss: 0.3596 - val_acc: 0.8400\n",
            "Epoch 28/30\n",
            "200/200 [==============================] - 0s 1ms/step - loss: 0.1396 - acc: 0.9750 - val_loss: 0.3604 - val_acc: 0.8300\n",
            "Epoch 29/30\n",
            "200/200 [==============================] - 0s 1ms/step - loss: 0.1332 - acc: 0.9800 - val_loss: 0.3688 - val_acc: 0.8200\n",
            "Epoch 30/30\n",
            "200/200 [==============================] - 0s 1ms/step - loss: 0.1350 - acc: 0.9850 - val_loss: 0.3474 - val_acc: 0.8600\n"
          ],
          "name": "stdout"
        }
      ]
    },
    {
      "cell_type": "code",
      "metadata": {
        "id": "IG2nULb88V3b",
        "colab_type": "code",
        "colab": {
          "base_uri": "https://localhost:8080/",
          "height": 562
        },
        "outputId": "764d5b90-d895-4ea9-fdba-6f0b1dbe4309"
      },
      "source": [
        "import matplotlib.pyplot as plt\n",
        "\n",
        "acc = history.history['acc']\n",
        "val_acc = history.history['val_acc']\n",
        "loss = history.history['loss']\n",
        "val_loss = history.history['val_loss']\n",
        "\n",
        "print()\n",
        "epochs = range(1, len(acc) +1)\n",
        "\n",
        "plt.plot(epochs, acc, 'bo', label='traning acc')\n",
        "plt.plot(epochs, val_acc, 'b', label='validation acc')\n",
        "plt.title('acc')\n",
        "plt.legend()\n",
        "\n",
        "plt.figure()\n",
        "\n",
        "plt.plot(epochs, loss, 'bo', label='traning loss')\n",
        "plt.plot(epochs, val_loss, 'b', label='validation loss')\n",
        "plt.title('loss')\n",
        "plt.legend()\n",
        "\n",
        "plt.show()"
      ],
      "execution_count": 9,
      "outputs": [
        {
          "output_type": "stream",
          "text": [
            "\n"
          ],
          "name": "stdout"
        },
        {
          "output_type": "display_data",
          "data": {
            "image/png": "[encoded data removed]",
            "text/plain": [
              "<Figure size 432x288 with 1 Axes>"
            ]
          },
          "metadata": {
            "tags": [],
            "needs_background": "light"
          }
        },
        {
          "output_type": "display_data",
          "data": {
            "image/png": "[encoded data removed]",
            "text/plain": [
              "<Figure size 432x288 with 1 Axes>"
            ]
          },
          "metadata": {
            "tags": [],
            "needs_background": "light"
          }
        }
      ]
    },
    {
      "cell_type": "code",
      "metadata": {
        "id": "I0CWfzkDU95R",
        "colab_type": "code",
        "colab": {}
      },
      "source": [
        ""
      ],
      "execution_count": 0,
      "outputs": []
    }
  ]
}
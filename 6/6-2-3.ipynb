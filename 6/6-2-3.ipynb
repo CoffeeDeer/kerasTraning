{
  "nbformat": 4,
  "nbformat_minor": 0,
  "metadata": {
    "colab": {
      "name": "6-2-3.ipynb",
      "provenance": []
    },
    "kernelspec": {
      "name": "python3",
      "display_name": "Python 3"
    }
  },
  "cells": [
    {
      "cell_type": "code",
      "metadata": {
        "id": "fsrx7Q8gMD59",
        "colab_type": "code",
        "colab": {
          "base_uri": "https://localhost:8080/",
          "height": 153
        },
        "outputId": "844286ed-7579-47b7-a503-2f066d701608"
      },
      "source": [
        "from keras.datasets import imdb\n",
        "from keras.preprocessing import sequence\n",
        "\n",
        "max_features = 10000\n",
        "maxlen = 500\n",
        "batch_size = 32\n",
        "\n",
        "print('data loading')\n",
        "(input_train, y_train), (input_test, y_test) = imdb.load_data(num_words = max_features)\n",
        "\n",
        "print(len(input_train), 'train sequence')\n",
        "print(len(input_test), 'test sequence')\n",
        "\n",
        "print('sequence padding')\n",
        "\n",
        "input_train = sequence.pad_sequences(input_train, maxlen=maxlen)\n",
        "input_test = sequence.pad_sequences(input_test, maxlen=maxlen)\n",
        "\n",
        "print(input_train.shape, 'input train shape')\n",
        "print(input_test.shape, 'input test shape')"
      ],
      "execution_count": 2,
      "outputs": [
        {
          "output_type": "stream",
          "text": [
            "data loading\n",
            "Downloading data from https://s3.amazonaws.com/text-datasets/imdb.npz\n",
            "17465344/17464789 [==============================] - 0s 0us/step\n",
            "25000 train sequence\n",
            "25000 test sequence\n",
            "sequence padding\n",
            "(25000, 500) input train shape\n",
            "(25000, 500) input test shape\n"
          ],
          "name": "stdout"
        }
      ]
    },
    {
      "cell_type": "code",
      "metadata": {
        "id": "tkut-2ZQLEBJ",
        "colab_type": "code",
        "colab": {
          "base_uri": "https://localhost:8080/",
          "height": 408
        },
        "outputId": "eb0df581-ea59-45a2-fb54-ca70bdb26828"
      },
      "source": [
        "from keras.models import Sequential\n",
        "from keras.layers import LSTM, Embedding, Dense\n",
        "\n",
        "max_feature = 10000\n",
        "\n",
        "model = Sequential()\n",
        "model.add(Embedding(max_feature,32))\n",
        "model.add(LSTM(32))\n",
        "model.add(Dense(1, activation='sigmoid'))\n",
        "\n",
        "model.compile(optimizer='RMSprop', loss='binary_crossentropy', metrics=['acc'])\n",
        "\n",
        "history = model.fit(input_train, y_train, epochs=10, batch_size=128, validation_split=0.2)"
      ],
      "execution_count": 3,
      "outputs": [
        {
          "output_type": "stream",
          "text": [
            "/usr/local/lib/python3.6/dist-packages/tensorflow/python/framework/indexed_slices.py:434: UserWarning: Converting sparse IndexedSlices to a dense Tensor of unknown shape. This may consume a large amount of memory.\n",
            "  \"Converting sparse IndexedSlices to a dense Tensor of unknown shape. \"\n"
          ],
          "name": "stderr"
        },
        {
          "output_type": "stream",
          "text": [
            "Train on 20000 samples, validate on 5000 samples\n",
            "Epoch 1/10\n",
            "20000/20000 [==============================] - 66s 3ms/step - loss: 0.5323 - acc: 0.7588 - val_loss: 0.3605 - val_acc: 0.8636\n",
            "Epoch 2/10\n",
            "20000/20000 [==============================] - 65s 3ms/step - loss: 0.3098 - acc: 0.8787 - val_loss: 0.2965 - val_acc: 0.8820\n",
            "Epoch 3/10\n",
            "20000/20000 [==============================] - 65s 3ms/step - loss: 0.2360 - acc: 0.9105 - val_loss: 0.6193 - val_acc: 0.8094\n",
            "Epoch 4/10\n",
            "20000/20000 [==============================] - 65s 3ms/step - loss: 0.2034 - acc: 0.9262 - val_loss: 0.3836 - val_acc: 0.8290\n",
            "Epoch 5/10\n",
            "20000/20000 [==============================] - 64s 3ms/step - loss: 0.1810 - acc: 0.9342 - val_loss: 0.2987 - val_acc: 0.8908\n",
            "Epoch 6/10\n",
            "20000/20000 [==============================] - 64s 3ms/step - loss: 0.1583 - acc: 0.9420 - val_loss: 0.2957 - val_acc: 0.8844\n",
            "Epoch 7/10\n",
            "20000/20000 [==============================] - 64s 3ms/step - loss: 0.1490 - acc: 0.9470 - val_loss: 0.4622 - val_acc: 0.8502\n",
            "Epoch 8/10\n",
            "20000/20000 [==============================] - 64s 3ms/step - loss: 0.1375 - acc: 0.9528 - val_loss: 0.4836 - val_acc: 0.8236\n",
            "Epoch 9/10\n",
            "20000/20000 [==============================] - 65s 3ms/step - loss: 0.1245 - acc: 0.9570 - val_loss: 0.3655 - val_acc: 0.8442\n",
            "Epoch 10/10\n",
            "20000/20000 [==============================] - 64s 3ms/step - loss: 0.1104 - acc: 0.9617 - val_loss: 0.4312 - val_acc: 0.8722\n"
          ],
          "name": "stdout"
        }
      ]
    },
    {
      "cell_type": "code",
      "metadata": {
        "id": "b9gG5ABoLRp1",
        "colab_type": "code",
        "colab": {
          "base_uri": "https://localhost:8080/",
          "height": 562
        },
        "outputId": "0b052b14-ab10-41e2-c478-0e0d53984627"
      },
      "source": [
        "import matplotlib.pyplot as plt\n",
        "\n",
        "acc = history.history['acc']\n",
        "val_acc = history.history['val_acc']\n",
        "loss = history.history['loss']\n",
        "val_loss = history.history['val_loss']\n",
        "\n",
        "print()\n",
        "epochs = range(1, len(acc) +1)\n",
        "\n",
        "plt.plot(epochs, acc, 'bo', label='traning acc')\n",
        "plt.plot(epochs, val_acc, 'b', label='validation acc')\n",
        "plt.title('acc')\n",
        "plt.legend()\n",
        "\n",
        "plt.figure()\n",
        "\n",
        "plt.plot(epochs, loss, 'bo', label='traning loss')\n",
        "plt.plot(epochs, val_loss, 'b', label='validation loss')\n",
        "plt.title('loss')\n",
        "plt.legend()\n",
        "\n",
        "plt.show()"
      ],
      "execution_count": 4,
      "outputs": [
        {
          "output_type": "stream",
          "text": [
            "\n"
          ],
          "name": "stdout"
        },
        {
          "output_type": "display_data",
          "data": {
            "image/png": "[encoded data removed]",
            "text/plain": [
              "<Figure size 432x288 with 1 Axes>"
            ]
          },
          "metadata": {
            "tags": [],
            "needs_background": "light"
          }
        },
        {
          "output_type": "display_data",
          "data": {
            "image/png": "[encoded data removed]",
            "text/plain": [
              "<Figure size 432x288 with 1 Axes>"
            ]
          },
          "metadata": {
            "tags": [],
            "needs_background": "light"
          }
        }
      ]
    },
    {
      "cell_type": "code",
      "metadata": {
        "id": "zBCc63_cO49Y",
        "colab_type": "code",
        "colab": {}
      },
      "source": [
        ""
      ],
      "execution_count": 0,
      "outputs": []
    }
  ]
}
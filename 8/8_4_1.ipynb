{
  "nbformat": 4,
  "nbformat_minor": 0,
  "metadata": {
    "colab": {
      "name": "8-4-1.ipynb",
      "provenance": [],
      "collapsed_sections": []
    },
    "kernelspec": {
      "name": "python3",
      "display_name": "Python 3"
    }
  },
  "cells": [
    {
      "cell_type": "code",
      "metadata": {
        "id": "vCqdp-xjXzif",
        "colab_type": "code",
        "colab": {}
      },
      "source": [
        "import keras\n",
        "from keras import layers\n",
        "from keras import backend as K\n",
        "from keras.models import Model\n",
        "import numpy as np\n",
        "\n",
        "img_shape = (28, 28, 1)\n",
        "batch_size = 16\n",
        "latent_dim = 2\n",
        "\n",
        "input_img - keras.Input(shape=img_shape)\n",
        "\n",
        "x = layers.Conv2D(32, 3, padding='same', activation='relu')(input_img)\n",
        "x = layers.Conv2D(64, 3, padding='same', activation='relu', strides=(2,2))(x)\n",
        "x = layers.Conv2D(64, 3, padding='same', activation='relu')(x)\n",
        "x = layers.Conv2D(64, 3, padding='same', activation='relu')(x)\n",
        "\n",
        "shape_before_flattening = K.int_shape(x)\n",
        "\n",
        "x = layers.Flatten()(x)\n",
        "x = layer.Dense(32, activation='relu')(x)\n",
        "\n",
        "# 2분류 덴스 레이어에 x를 집어넣는다? \n",
        "z_mean = layers.Dense(latent_dim)(x)\n",
        "z_log_var = layers.Dense(latent_dim)(x)"
      ],
      "execution_count": 0,
      "outputs": []
    },
    {
      "cell_type": "code",
      "metadata": {
        "id": "0uxFbG5IqCN-",
        "colab_type": "code",
        "colab": {}
      },
      "source": [
        "def sampling(args):\n",
        "  z_mean, z_log_var = args\n",
        "  epsilon = K.random_normal(shape=(K.shape(z_mean)[0], latent_dim), mean=0, stddev=1.)\n",
        "\n",
        "  return z_mean + K.exp(0.5 * z_log_var) * epsilon\n",
        "\n",
        "z - layers.Lambda(sampling)([z_mean, z_log_var])"
      ],
      "execution_count": 0,
      "outputs": []
    },
    {
      "cell_type": "code",
      "metadata": {
        "id": "zxIjAZAEqmm6",
        "colab_type": "code",
        "colab": {}
      },
      "source": [
        "# input 에 z 를 주입한다\n",
        "decoder_input = lyaers.Input(K.int_shape(z)[1:])\n",
        "\n",
        "# 입력을 업샘플링 진행합\n",
        "x = layers.Dense(np.prod(shape_before_flattening[1:]), activation='relu')(decoder_input)\n",
        "\n",
        "x = layers.Reshape(shape_before_flattening[1:])(x)\n",
        "x = layers.Conv2DTranspose(32, 3, padding='same', activation='relu', strides=(2, 2))(x)\n",
        "x = layers.Conv2D(1, 3, padding='same', activation='sigmoid')(x)\n",
        "\n",
        "decoder = Model(decoder_input, x)\n",
        "\n",
        "z_decoded = decoder(z)"
      ],
      "execution_count": 0,
      "outputs": []
    }
  ]
}
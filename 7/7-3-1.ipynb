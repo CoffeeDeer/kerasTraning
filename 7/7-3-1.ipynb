{
  "nbformat": 4,
  "nbformat_minor": 0,
  "metadata": {
    "colab": {
      "name": "7-3-1.ipynb",
      "provenance": [],
      "collapsed_sections": []
    },
    "kernelspec": {
      "name": "python3",
      "display_name": "Python 3"
    }
  },
  "cells": [
    {
      "cell_type": "code",
      "metadata": {
        "id": "mt03Q-XwtTmy",
        "colab_type": "code",
        "colab": {}
      },
      "source": [
        "# batch normalization\n",
        "\n",
        "normalized_data = (data - np.mean(data, axis=...)) / np.std(data, axis=...)\n",
        "\n",
        "# 예전에는 모델에 데이터를 주입하기 전에 정규화를 진행했지만 \n",
        "# 데이터 정규화는 모든 변환 후 에도 고려외더야 한다. \n",
        "# Dense 층 Conv2D층에 들어가는 데이터가 정규화 되어 있다고 가정하기는 어렵다. \n",
        "\n",
        "# 케라스는 BatchNormalization 클래스를 제공함 "
      ],
      "execution_count": 0,
      "outputs": []
    },
    {
      "cell_type": "code",
      "metadata": {
        "id": "EmETKMx1u5f8",
        "colab_type": "code",
        "colab": {}
      },
      "source": [
        "# Example\n",
        "\n",
        "conv_model.add(layers.Conv2D(32, 3, activation='relu'))\n",
        "conv_model.add(layers.BatchNormalization())\n",
        "\n",
        "dense_model.add(layers.Dense(32, activation='relu'))\n",
        "dense_model.add(layers.BAtchNormalization())\n",
        "\n",
        "# Batch Normalization 에는 axis 변수가 있으면 기본값은 -1 이다. \n",
        "# data_format을 last 로 사용하여 Dense, conv rnn 를 사용할때는 -1이 맞지만\n",
        "# channels_first로 사용하는 특수한 경우에는 1이 정답니다. \n",
        "\n",
        "# 배치 재 정규화도 존재한다. "
      ],
      "execution_count": 0,
      "outputs": []
    },
    {
      "cell_type": "code",
      "metadata": {
        "id": "YOeclurdxw8G",
        "colab_type": "code",
        "colab": {
          "base_uri": "https://localhost:8080/",
          "height": 34
        },
        "outputId": "dba467b5-f987-45c7-d1ef-16c7da15f27b"
      },
      "source": [
        "# 깊이별 분리 합성곱\n",
        "# depthwise separable convolution \n",
        "\n",
        "from keras.models import Sequential, Model\n",
        "from keras import layers\n",
        "\n",
        "height = 64\n",
        "width = 64\n",
        "channels = 3\n",
        "num_classes = 10\n",
        "\n",
        "model = Sequential()\n",
        "model.add(layers.SeparableConv2D(32, 3 activation='relu', input_shape=(height, width, channels,)))\n",
        "model.add(layers.SeparableConv2D(64, 3, activation='relu'))\n",
        "model.add(layers.MaxPooling2D(2))\n",
        "\n",
        "model.add(layers.SeparableConv2D(64, 3 activation='relu', input_shape=(height, width, channels,)))\n",
        "model.add(layers.SeparableConv2D(128, 3, activation='relu'))\n",
        "model.add(layers.MaxPooling2D(2))\n",
        "\n",
        "model.add(layers.SeparableConv2D(32, 3 activation='relu', input_shape=(height, width, channels,)))\n",
        "model.add(layers.SeparableConv2D(64, 3, activation='relu'))\n",
        "model.add(layers.GlobalMaxPooling2D())"
      ],
      "execution_count": 1,
      "outputs": [
        {
          "output_type": "stream",
          "text": [
            "Using TensorFlow backend.\n"
          ],
          "name": "stderr"
        }
      ]
    },
    {
      "cell_type": "code",
      "metadata": {
        "id": "4b2M9BoEyFvz",
        "colab_type": "code",
        "colab": {}
      },
      "source": [
        ""
      ],
      "execution_count": 0,
      "outputs": []
    }
  ]
}
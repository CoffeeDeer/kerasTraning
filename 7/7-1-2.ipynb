{
  "nbformat": 4,
  "nbformat_minor": 0,
  "metadata": {
    "colab": {
      "name": "7-1-2.ipynb",
      "provenance": [],
      "collapsed_sections": []
    },
    "kernelspec": {
      "name": "python3",
      "display_name": "Python 3"
    }
  },
  "cells": [
    {
      "cell_type": "code",
      "metadata": {
        "id": "2hyjMBiiDLQn",
        "colab_type": "code",
        "colab": {}
      },
      "source": [
        "from keras.models import Model\n",
        "from keras import layers\n",
        "from keras import Input\n",
        "\n",
        "text_vocabulary_size = 10000\n",
        "question_vocabulary_size = 10000\n",
        "answer_vocabulary_size = 50\n",
        "\n",
        "text_input = Input(shape=(None,), dtype='int32', name='text')\n",
        "embedded_text = layers.Embedding(text_vocabulary_size, 64)(text_input)\n",
        "encoded_text = layers.LSTM(32)(embedded_text)\n",
        "\n",
        "question_input = Input(shape=(None,), dtype='int32', name='question')\n",
        "embedded_question = layers.Embedding(question_vocabulary_size, 32)(question_input)\n",
        "encoded_question = layers.LSTM(16)(embedded_question)"
      ],
      "execution_count": 0,
      "outputs": []
    },
    {
      "cell_type": "code",
      "metadata": {
        "id": "KO5pPAUQGFrZ",
        "colab_type": "code",
        "colab": {}
      },
      "source": [
        "concatenated = layers.concatenate([encoded_text, encoded_question], axis=-1)\n",
        "\n",
        "answer = layers.Dense(answer_vocabulary_size, activation='softmax')(concatenated)\n",
        "\n",
        "model = Model([text_input, question_input], answer)\n",
        "model.compile(optimizer='rmsprop', loss='categorical_crossentropy', metrics=['acc'])"
      ],
      "execution_count": 0,
      "outputs": []
    },
    {
      "cell_type": "code",
      "metadata": {
        "id": "oP4X4H_MGqoB",
        "colab_type": "code",
        "colab": {
          "base_uri": "https://localhost:8080/",
          "height": 408
        },
        "outputId": "89551533-dabe-4ce3-af6a-682ae71468d5"
      },
      "source": [
        "import numpy as np\n",
        "from keras.utils import to_categorical\n",
        "\n",
        "num_samples = 1000\n",
        "max_length = 100\n",
        "\n",
        "text = np.random.randint(1, text_vocabulary_size, size=(num_samples, max_length))\n",
        "question = np.random.randint(1, question_vocabulary_size, size=(num_samples, max_length))\n",
        "\n",
        "answers = np.random.randint(0, answer_vocabulary_size, size=num_samples)\n",
        "answers = to_categorical(answers)\n",
        "\n",
        "# 리스트 입력 학습\n",
        "model.fit([text, question], answers, epochs=10, batch_size=128)\n",
        "# 딕셔너리 입력 합습 (입력 이름을 지정했을경우만 가능)\n",
        "#model.fit({'text': text, 'question': question}, answers, epochs=10, batch_size=128)"
      ],
      "execution_count": 6,
      "outputs": [
        {
          "output_type": "stream",
          "text": [
            "/usr/local/lib/python3.6/dist-packages/tensorflow/python/framework/indexed_slices.py:434: UserWarning: Converting sparse IndexedSlices to a dense Tensor of unknown shape. This may consume a large amount of memory.\n",
            "  \"Converting sparse IndexedSlices to a dense Tensor of unknown shape. \"\n"
          ],
          "name": "stderr"
        },
        {
          "output_type": "stream",
          "text": [
            "Epoch 1/10\n",
            "1000/1000 [==============================] - 2s 2ms/step - loss: 3.9117 - acc: 0.0160\n",
            "Epoch 2/10\n",
            "1000/1000 [==============================] - 1s 1ms/step - loss: 3.8850 - acc: 0.1690\n",
            "Epoch 3/10\n",
            "1000/1000 [==============================] - 1s 994us/step - loss: 3.8456 - acc: 0.0860\n",
            "Epoch 4/10\n",
            "1000/1000 [==============================] - 1s 1ms/step - loss: 3.7131 - acc: 0.2200\n",
            "Epoch 5/10\n",
            "1000/1000 [==============================] - 1s 988us/step - loss: 3.5748 - acc: 0.1840\n",
            "Epoch 6/10\n",
            "1000/1000 [==============================] - 1s 982us/step - loss: 3.4086 - acc: 0.1990\n",
            "Epoch 7/10\n",
            "1000/1000 [==============================] - 1s 983us/step - loss: 3.2742 - acc: 0.2000\n",
            "Epoch 8/10\n",
            "1000/1000 [==============================] - 1s 996us/step - loss: 3.1780 - acc: 0.2000\n",
            "Epoch 9/10\n",
            "1000/1000 [==============================] - 1s 977us/step - loss: 3.0878 - acc: 0.2110\n",
            "Epoch 10/10\n",
            "1000/1000 [==============================] - 1s 976us/step - loss: 3.0023 - acc: 0.2460\n"
          ],
          "name": "stdout"
        },
        {
          "output_type": "execute_result",
          "data": {
            "text/plain": [
              "<keras.callbacks.callbacks.History at 0x7fb15a874d68>"
            ]
          },
          "metadata": {
            "tags": []
          },
          "execution_count": 6
        }
      ]
    },
    {
      "cell_type": "code",
      "metadata": {
        "id": "9POl8kTnHhgu",
        "colab_type": "code",
        "colab": {}
      },
      "source": [
        ""
      ],
      "execution_count": 0,
      "outputs": []
    }
  ]
}
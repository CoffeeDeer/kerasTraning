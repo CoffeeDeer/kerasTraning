{
  "nbformat": 4,
  "nbformat_minor": 0,
  "metadata": {
    "colab": {
      "name": "7-1-4.ipynb",
      "provenance": [],
      "collapsed_sections": []
    },
    "kernelspec": {
      "name": "python3",
      "display_name": "Python 3"
    }
  },
  "cells": [
    {
      "cell_type": "code",
      "metadata": {
        "id": "--SWHdWa2UqS",
        "colab_type": "code",
        "colab": {}
      },
      "source": [
        "from keras import layers\n",
        "\n",
        "branch_a = layers.Conv2D(128, 1, activation='relu', strides=2)(x)\n",
        "\n",
        "branch_b = layers.Conv2D(128, 1, activation='relu')(x)\n",
        "branch_b = layers.Conv2D(128, 1, activation='relu', strides=2)(branch_b)\n",
        "\n",
        "branch_c = layers.AveragePooling2D(3, strides=2)(x)\n",
        "branch_c = layers.Conv2D(128, 3, activation='relu')(branch_c)\n",
        "\n",
        "branch_d = layer.Conv2D(128, 1, activation='relu')(x)\n",
        "branch_d = layer.Conv2D(128, 3, activation='relu')(branch_d)\n",
        "branch_d = layer.Conv2D(128, 3, activation='relu', strides=2)(branch_d)\n",
        "\n",
        "# 출력을 섞음 \n",
        "output = layers.concatenate([branch_a, branch_b, branch_c, branch_d], axis=-1)"
      ],
      "execution_count": 0,
      "outputs": []
    }
  ]
}
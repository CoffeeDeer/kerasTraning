{
  "nbformat": 4,
  "nbformat_minor": 0,
  "metadata": {
    "colab": {
      "name": "7-2-1.ipynb",
      "provenance": [],
      "collapsed_sections": []
    },
    "kernelspec": {
      "name": "python3",
      "display_name": "Python 3"
    }
  },
  "cells": [
    {
      "cell_type": "code",
      "metadata": {
        "id": "I5fb49fvj5P0",
        "colab_type": "code",
        "colab": {}
      },
      "source": [
        "import keras\n",
        "\n",
        "callback_list = [\n",
        "  keras.collbacks.EarlyStopping(\n",
        "      monitor='val_acc',\n",
        "      patience=1,\n",
        "  ),\n",
        "  keras.callbacks.ModelCheckpoint(\n",
        "      filepath='my_model.h5',\n",
        "      monitor='val_loss',\n",
        "      save_best_only=True\n",
        "  )\n",
        "]\n",
        "\n",
        "model.compile(optimizer='rmsprop',\n",
        "              loss='binary_crossentropy',\n",
        "              metrics=['acc'])\n",
        "\n",
        "model.fit(x, y, epochs=10, batch_size=32, callbacks = callbacks_list, validation_data = (x,val, y_val))"
      ],
      "execution_count": 0,
      "outputs": []
    }
  ]
}
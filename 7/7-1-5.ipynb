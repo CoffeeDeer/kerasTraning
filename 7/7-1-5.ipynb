{
  "nbformat": 4,
  "nbformat_minor": 0,
  "metadata": {
    "colab": {
      "name": "7-1-5.ipynb",
      "provenance": [],
      "collapsed_sections": []
    },
    "kernelspec": {
      "name": "python3",
      "display_name": "Python 3"
    }
  },
  "cells": [
    {
      "cell_type": "code",
      "metadata": {
        "id": "jl8r6igkCAK6",
        "colab_type": "code",
        "colab": {}
      },
      "source": [
        "# residual connection\n",
        "\n",
        "from keras import layers\n",
        "\n",
        "x = ...\n",
        "y = layers.Conv2D(128, 3, activation='relu', padding='same')(x)\n",
        "y = layers.Conv2D(128, 3, activation='relu', padding='same')(y)\n",
        "y = layers.Conv2D(128, 3, activation='relu', padding='same')(y)\n",
        "\n",
        "y = layers.add([y, x])"
      ],
      "execution_count": 0,
      "outputs": []
    },
    {
      "cell_type": "code",
      "metadata": {
        "id": "iXeMT-1lCSlx",
        "colab_type": "code",
        "colab": {}
      },
      "source": [
        "from keras import layers\n",
        "\n",
        "x = ...\n",
        "y = layers.Conv2D(128, 3, activation='relu', padding='same')(x)\n",
        "y = layers.Conv2D(128, 3, activation='relu', padding='same')(y)\n",
        "y = layers.MaxPooling2D(2, strides=2)(y)\n",
        "\n",
        "residual = layers.Conv2D(128, 1, strides=2, padding='same')(x)\n",
        "\n",
        "y = layers.add([y, residual])"
      ],
      "execution_count": 0,
      "outputs": []
    }
  ]
}
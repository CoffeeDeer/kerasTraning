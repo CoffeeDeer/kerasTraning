{
  "nbformat": 4,
  "nbformat_minor": 0,
  "metadata": {
    "colab": {
      "name": "7-1-6.ipynb",
      "provenance": [],
      "collapsed_sections": []
    },
    "kernelspec": {
      "name": "python3",
      "display_name": "Python 3"
    }
  },
  "cells": [
    {
      "cell_type": "code",
      "metadata": {
        "id": "hjSlbalwC-ro",
        "colab_type": "code",
        "colab": {}
      },
      "source": [
        "# shared LSTM / siamese LSTM\n",
        "\n",
        "from keras import layers\n",
        "from keras import Input\n",
        "from keras.models import Model\n",
        "\n",
        "lstm = layers.LSTM(32)\n",
        "left_input = Input(shape=(None, 128))\n",
        "left_output = lstm(left_input)\n",
        "\n",
        "right_input = Input(shape=(None, 128))\n",
        "# not! right_output = left_output(right_input)\n",
        "right_output = lstm(right_output)\n",
        "\n",
        "merged = layers.concatenate([left_output, right_output], axis=-1)\n",
        "predictins = layers.Dense(1, activation='sigmoid')(merged)\n",
        "\n",
        "model = Model([left_input, right_input], predictions)\n",
        "model.fit([left_data, right_data], targets)"
      ],
      "execution_count": 0,
      "outputs": []
    },
    {
      "cell_type": "code",
      "metadata": {
        "id": "ql8S9g0kJCtm",
        "colab_type": "code",
        "colab": {}
      },
      "source": [
        "from keras import layers\n",
        "from keras import applications\n",
        "from keras import Input\n",
        "\n",
        "xception_base = applications.Xception(weights=None, include_top=False)\n",
        "\n",
        "left_input = Input(shape=(250, 250, 3))\n",
        "right_input = Input(shape=(250, 250, 3))\n",
        "\n",
        "left_features = xception_base(left_input)\n",
        "right_features = xception_base(right_input)\n",
        "\n",
        "merged_featrues = layers.concatenate([left_features, right_features], axis=-1)"
      ],
      "execution_count": 0,
      "outputs": []
    }
  ]
}